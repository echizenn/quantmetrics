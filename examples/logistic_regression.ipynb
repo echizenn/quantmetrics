{
 "cells": [
  {
   "cell_type": "code",
   "execution_count": 1,
   "metadata": {},
   "outputs": [],
   "source": [
    "%load_ext autoreload\n",
    "%autoreload 2"
   ]
  },
  {
   "cell_type": "markdown",
   "metadata": {},
   "source": [
    "https://www.stata.com/features/overview/logistic-regression/"
   ]
  },
  {
   "cell_type": "code",
   "execution_count": 111,
   "metadata": {},
   "outputs": [],
   "source": [
    "import numpy as np\n",
    "import pandas as pd"
   ]
  },
  {
   "cell_type": "code",
   "execution_count": 112,
   "metadata": {},
   "outputs": [],
   "source": [
    "import quantmetrics\n",
    "from quantmetrics.datasets import webuse\n",
    "from quantmetrics.discrete_choice import logistic"
   ]
  },
  {
   "cell_type": "code",
   "execution_count": 113,
   "metadata": {},
   "outputs": [],
   "source": [
    "webuse('lbw')"
   ]
  },
  {
   "cell_type": "code",
   "execution_count": 114,
   "metadata": {},
   "outputs": [],
   "source": [
    "data = pd.read_stata(\"data/lbw\")"
   ]
  },
  {
   "cell_type": "code",
   "execution_count": 115,
   "metadata": {},
   "outputs": [],
   "source": [
    "X = data.drop('low', axis=1)\n",
    "y = data['low']"
   ]
  },
  {
   "cell_type": "code",
   "execution_count": 116,
   "metadata": {},
   "outputs": [],
   "source": [
    "X_ = X.copy()\n",
    "bwt = X['bwt']\n",
    "X_['bwt'] = (bwt-bwt.mean()) / bwt.std()\n",
    "lwt = X['lwt']\n",
    "X_['lwt'] = (lwt-lwt.mean()) / lwt.std()\n",
    "age = X['age']\n",
    "X_['age'] = (age-age.mean()) / age.std()\n",
    "X_.drop(columns=['id', 'bwt', 'ftv'], inplace=True)"
   ]
  },
  {
   "cell_type": "code",
   "execution_count": 117,
   "metadata": {},
   "outputs": [
    {
     "data": {
      "text/html": [
       "<div>\n",
       "<style scoped>\n",
       "    .dataframe tbody tr th:only-of-type {\n",
       "        vertical-align: middle;\n",
       "    }\n",
       "\n",
       "    .dataframe tbody tr th {\n",
       "        vertical-align: top;\n",
       "    }\n",
       "\n",
       "    .dataframe thead th {\n",
       "        text-align: right;\n",
       "    }\n",
       "</style>\n",
       "<table border=\"1\" class=\"dataframe\">\n",
       "  <thead>\n",
       "    <tr style=\"text-align: right;\">\n",
       "      <th></th>\n",
       "      <th>age</th>\n",
       "      <th>lwt</th>\n",
       "      <th>race</th>\n",
       "      <th>smoke</th>\n",
       "      <th>ptl</th>\n",
       "      <th>ht</th>\n",
       "      <th>ui</th>\n",
       "    </tr>\n",
       "  </thead>\n",
       "  <tbody>\n",
       "    <tr>\n",
       "      <th>0</th>\n",
       "      <td>-0.79984</td>\n",
       "      <td>1.706611</td>\n",
       "      <td>black</td>\n",
       "      <td>nonsmoker</td>\n",
       "      <td>0</td>\n",
       "      <td>0</td>\n",
       "      <td>1</td>\n",
       "    </tr>\n",
       "  </tbody>\n",
       "</table>\n",
       "</div>"
      ],
      "text/plain": [
       "       age       lwt   race      smoke  ptl  ht  ui\n",
       "0 -0.79984  1.706611  black  nonsmoker    0   0   1"
      ]
     },
     "execution_count": 117,
     "metadata": {},
     "output_type": "execute_result"
    }
   ],
   "source": [
    "X_.head(1)"
   ]
  },
  {
   "cell_type": "code",
   "execution_count": 118,
   "metadata": {},
   "outputs": [],
   "source": [
    "init_value = np.array([1, 1.1, 1, 1, 1, 1, 1.2, 1, 0.5])"
   ]
  },
  {
   "cell_type": "code",
   "execution_count": 127,
   "metadata": {},
   "outputs": [
    {
     "name": "stdout",
     "output_type": "stream",
     "text": [
      "        age       lwt  ptl  ht  ui  race_black  race_other  smoke_smoker  \\\n",
      "0 -0.799840  1.706611    0   0   1           1           0             0   \n",
      "1  1.842328  0.823541    0   0   0           0           1             0   \n",
      "2 -0.611114 -0.811774    0   0   0           0           0             1   \n",
      "3 -0.422387 -0.713655    0   0   1           0           0             1   \n",
      "4 -0.988566 -0.746361    0   0   1           0           0             1   \n",
      "\n",
      "   _cons  \n",
      "0      1  \n",
      "1      1  \n",
      "2      1  \n",
      "3      1  \n",
      "4      1  \n",
      "Logistic regression\n",
      "Number of obs = 189\n",
      "Log likelihood = -100.724\n",
      "LR chi2(42.195) = 42.195\n",
      "Prob > chi2 = 0.42195\n",
      "Pseudo R2 = 0.42195\n",
      "Odds Ratio = {'age': 42.195, 'lwt': 42.195}\n",
      "Std. Err. = {'age': 42.195, 'lwt': 42.195}\n",
      "z = {'age': 42.195, 'lwt': 42.195}\n",
      "p_z = {'age': 42.195, 'lwt': 42.195}\n",
      "95% Conf. Interval bottom = {'age': 42.195, 'lwt': 42.195}\n",
      "95% Conf. Interval top = {'age': 42.195, 'lwt': 42.195}\n",
      "      fun: 100.7239955662642\n",
      " hess_inv: array([[ 0.03886682, -0.00471066, -0.00894792,  0.00548942,  0.00953937,\n",
      "         0.01603309,  0.01056777,  0.00334815, -0.00500226],\n",
      "       [-0.00471066,  0.04526909,  0.00503468, -0.04725472,  0.0055532 ,\n",
      "        -0.02222248,  0.01396139,  0.00468161,  0.00279362],\n",
      "       [-0.00894792,  0.00503468,  0.12701235, -0.00152512, -0.03068614,\n",
      "        -0.00460929, -0.00629991, -0.02011598, -0.01182899],\n",
      "       [ 0.00548942, -0.04725472, -0.00152512,  0.48185499,  0.02965175,\n",
      "         0.0112747 , -0.01189682, -0.00864535, -0.03992437],\n",
      "       [ 0.00953937,  0.0055532 , -0.03068614,  0.02965175,  0.21654758,\n",
      "         0.01436691, -0.00492699, -0.00384094, -0.02937264],\n",
      "       [ 0.01603309, -0.02222248, -0.00460929,  0.0112747 ,  0.01436691,\n",
      "         0.28545971,  0.08482846,  0.03977724, -0.10306839],\n",
      "       [ 0.01056777,  0.01396139, -0.00629991, -0.01189682, -0.00492699,\n",
      "         0.08482846,  0.20696521,  0.08934061, -0.13133874],\n",
      "       [ 0.00334815,  0.00468161, -0.02011598, -0.00864535, -0.00384094,\n",
      "         0.03977724,  0.08934061,  0.17612324, -0.11372013],\n",
      "       [-0.00500226,  0.00279362, -0.01182899, -0.03992437, -0.02937264,\n",
      "        -0.10306839, -0.13133874, -0.11372013,  0.16065418]])\n",
      "      jac: array([-9.53674316e-06,  2.86102295e-06, -7.62939453e-06,  1.90734863e-06,\n",
      "        1.90734863e-06,  3.81469727e-06, -5.72204590e-06, -8.58306885e-06,\n",
      "       -3.81469727e-06])\n",
      "  message: 'Optimization terminated successfully.'\n",
      "     nfev: 242\n",
      "      nit: 19\n",
      "     njev: 22\n",
      "   status: 0\n",
      "  success: True\n",
      "        x: array([-0.14359597, -0.46323856,  0.54183607,  1.83251851,  0.75851419,\n",
      "        1.26264753,  0.86207783,  0.92334346, -2.13541551])\n"
     ]
    }
   ],
   "source": [
    "logistic(X_, y, init_value)"
   ]
  },
  {
   "cell_type": "code",
   "execution_count": 8,
   "metadata": {},
   "outputs": [
    {
     "data": {
      "text/html": [
       "<div>\n",
       "<style scoped>\n",
       "    .dataframe tbody tr th:only-of-type {\n",
       "        vertical-align: middle;\n",
       "    }\n",
       "\n",
       "    .dataframe tbody tr th {\n",
       "        vertical-align: top;\n",
       "    }\n",
       "\n",
       "    .dataframe thead th {\n",
       "        text-align: right;\n",
       "    }\n",
       "</style>\n",
       "<table border=\"1\" class=\"dataframe\">\n",
       "  <thead>\n",
       "    <tr style=\"text-align: right;\">\n",
       "      <th></th>\n",
       "      <th>id</th>\n",
       "      <th>low</th>\n",
       "      <th>age</th>\n",
       "      <th>lwt</th>\n",
       "      <th>race</th>\n",
       "      <th>smoke</th>\n",
       "      <th>ptl</th>\n",
       "      <th>ht</th>\n",
       "      <th>ui</th>\n",
       "      <th>ftv</th>\n",
       "      <th>bwt</th>\n",
       "    </tr>\n",
       "  </thead>\n",
       "  <tbody>\n",
       "    <tr>\n",
       "      <th>0</th>\n",
       "      <td>85</td>\n",
       "      <td>0</td>\n",
       "      <td>19</td>\n",
       "      <td>182</td>\n",
       "      <td>black</td>\n",
       "      <td>nonsmoker</td>\n",
       "      <td>0</td>\n",
       "      <td>0</td>\n",
       "      <td>1</td>\n",
       "      <td>0</td>\n",
       "      <td>2523</td>\n",
       "    </tr>\n",
       "    <tr>\n",
       "      <th>1</th>\n",
       "      <td>86</td>\n",
       "      <td>0</td>\n",
       "      <td>33</td>\n",
       "      <td>155</td>\n",
       "      <td>other</td>\n",
       "      <td>nonsmoker</td>\n",
       "      <td>0</td>\n",
       "      <td>0</td>\n",
       "      <td>0</td>\n",
       "      <td>3</td>\n",
       "      <td>2551</td>\n",
       "    </tr>\n",
       "    <tr>\n",
       "      <th>2</th>\n",
       "      <td>87</td>\n",
       "      <td>0</td>\n",
       "      <td>20</td>\n",
       "      <td>105</td>\n",
       "      <td>white</td>\n",
       "      <td>smoker</td>\n",
       "      <td>0</td>\n",
       "      <td>0</td>\n",
       "      <td>0</td>\n",
       "      <td>1</td>\n",
       "      <td>2557</td>\n",
       "    </tr>\n",
       "    <tr>\n",
       "      <th>3</th>\n",
       "      <td>88</td>\n",
       "      <td>0</td>\n",
       "      <td>21</td>\n",
       "      <td>108</td>\n",
       "      <td>white</td>\n",
       "      <td>smoker</td>\n",
       "      <td>0</td>\n",
       "      <td>0</td>\n",
       "      <td>1</td>\n",
       "      <td>2</td>\n",
       "      <td>2594</td>\n",
       "    </tr>\n",
       "    <tr>\n",
       "      <th>4</th>\n",
       "      <td>89</td>\n",
       "      <td>0</td>\n",
       "      <td>18</td>\n",
       "      <td>107</td>\n",
       "      <td>white</td>\n",
       "      <td>smoker</td>\n",
       "      <td>0</td>\n",
       "      <td>0</td>\n",
       "      <td>1</td>\n",
       "      <td>0</td>\n",
       "      <td>2600</td>\n",
       "    </tr>\n",
       "  </tbody>\n",
       "</table>\n",
       "</div>"
      ],
      "text/plain": [
       "   id  low  age  lwt   race      smoke  ptl  ht  ui  ftv   bwt\n",
       "0  85    0   19  182  black  nonsmoker    0   0   1    0  2523\n",
       "1  86    0   33  155  other  nonsmoker    0   0   0    3  2551\n",
       "2  87    0   20  105  white     smoker    0   0   0    1  2557\n",
       "3  88    0   21  108  white     smoker    0   0   1    2  2594\n",
       "4  89    0   18  107  white     smoker    0   0   1    0  2600"
      ]
     },
     "execution_count": 8,
     "metadata": {},
     "output_type": "execute_result"
    }
   ],
   "source": [
    "data.head()"
   ]
  },
  {
   "cell_type": "markdown",
   "metadata": {},
   "source": [
    "尤度関数の最適化をscipyの関数を使って行い、結果を出力  \n",
    "引数として、group(stataのi.と同じでダミー変数を作る項を指定、defaultだと数値はそのまま扱い、文字列はダミー変数処理とかでいいと思う)  \n",
    "ダミー変数で基準となる項目の指定とかも引数にできたらいいかも"
   ]
  },
  {
   "cell_type": "markdown",
   "metadata": {},
   "source": [
    "おそらく一番数が多いやつがdefaultになっている。"
   ]
  },
  {
   "cell_type": "code",
   "execution_count": 9,
   "metadata": {},
   "outputs": [
    {
     "data": {
      "text/plain": [
       "id          int16\n",
       "low          int8\n",
       "age          int8\n",
       "lwt         int16\n",
       "race     category\n",
       "smoke    category\n",
       "ptl          int8\n",
       "ht           int8\n",
       "ui           int8\n",
       "ftv          int8\n",
       "bwt         int16\n",
       "dtype: object"
      ]
     },
     "execution_count": 9,
     "metadata": {},
     "output_type": "execute_result"
    }
   ],
   "source": [
    "data.dtypes"
   ]
  },
  {
   "cell_type": "code",
   "execution_count": 10,
   "metadata": {},
   "outputs": [
    {
     "name": "stdout",
     "output_type": "stream",
     "text": [
      "{'race': 'white', 'smoke': 'nonsmoker'}\n"
     ]
    }
   ],
   "source": [
    "category_variables = data.dtypes[(data.dtypes == 'category') | (data.dtypes == 'object')].index\n",
    "category_mode = {}\n",
    "for variable in category_variables:\n",
    "    category_mode[variable] = data[variable].value_counts().index[0]\n",
    "print(category_mode)"
   ]
  },
  {
   "cell_type": "code",
   "execution_count": 11,
   "metadata": {},
   "outputs": [],
   "source": [
    "def get_category_modes(df):\n",
    "    \"\"\"\n",
    "    カテゴリータイプまたはオブジェクトタイプの列の最頻値を返す関数\n",
    "    \"\"\"\n",
    "    category_variables = df.dtypes[(df.dtypes == 'category') | (df.dtypes == 'object')].index\n",
    "    category_mode = {}\n",
    "    for variable in category_variables:\n",
    "        category_mode[variable] = df[variable].value_counts().index[0]\n",
    "    return category_mode"
   ]
  },
  {
   "cell_type": "code",
   "execution_count": 12,
   "metadata": {},
   "outputs": [],
   "source": [
    "X_dummy = pd.get_dummies(X)\n",
    "category_modes = get_category_modes(X)\n",
    "for index, value in category_modes.items():\n",
    "    X_dummy.drop(index + '_' + value, axis=1, inplace=True)"
   ]
  },
  {
   "cell_type": "code",
   "execution_count": 13,
   "metadata": {},
   "outputs": [
    {
     "data": {
      "text/plain": [
       "11"
      ]
     },
     "execution_count": 13,
     "metadata": {},
     "output_type": "execute_result"
    }
   ],
   "source": [
    "len(X_dummy.iloc[0])"
   ]
  },
  {
   "cell_type": "code",
   "execution_count": 14,
   "metadata": {},
   "outputs": [
    {
     "data": {
      "text/plain": [
       "id                85\n",
       "age               19\n",
       "lwt              182\n",
       "ptl                0\n",
       "ht                 0\n",
       "ui                 1\n",
       "ftv                0\n",
       "bwt             2523\n",
       "race_black         1\n",
       "race_other         0\n",
       "smoke_smoker       0\n",
       "Name: 0, dtype: int16"
      ]
     },
     "execution_count": 14,
     "metadata": {},
     "output_type": "execute_result"
    }
   ],
   "source": [
    "X_dummy.iloc[0]"
   ]
  },
  {
   "cell_type": "code",
   "execution_count": 15,
   "metadata": {},
   "outputs": [
    {
     "data": {
      "text/plain": [
       "id               255\n",
       "age               76\n",
       "lwt                0\n",
       "ptl                0\n",
       "ht                 0\n",
       "ui                 2\n",
       "ftv                0\n",
       "bwt             5046\n",
       "race_black         2\n",
       "race_other         0\n",
       "smoke_smoker       0\n",
       "Name: 0, dtype: int64"
      ]
     },
     "execution_count": 15,
     "metadata": {},
     "output_type": "execute_result"
    }
   ],
   "source": [
    "X_dummy.iloc[0]*np.array([3, 4, 0, 1, 2, 2, 2, 2, 2, 2, 2])"
   ]
  },
  {
   "cell_type": "code",
   "execution_count": 18,
   "metadata": {},
   "outputs": [
    {
     "data": {
      "text/plain": [
       "5381"
      ]
     },
     "execution_count": 18,
     "metadata": {},
     "output_type": "execute_result"
    }
   ],
   "source": [
    "np.dot(X_dummy.iloc[0], np.array([3, 4, 0, 1, 2, 2, 2, 2, 2, 2, 2]))"
   ]
  },
  {
   "cell_type": "code",
   "execution_count": 16,
   "metadata": {},
   "outputs": [],
   "source": [
    "import functools\n",
    "import math\n",
    "from scipy import optimize"
   ]
  },
  {
   "cell_type": "code",
   "execution_count": 106,
   "metadata": {},
   "outputs": [],
   "source": [
    "def logistic_ln_likelyhood(b, X, y):\n",
    "    \"\"\"\n",
    "    bはdummy化したXの列と同じ長さのnp.arrayを想定\n",
    "    \"\"\"\n",
    "    ln_likelyhood = 0\n",
    "    for X_i, y_i in zip(X.itertuples(name=None), y):\n",
    "        X_i = X_i[1:]\n",
    "        hat_y = 1/(1+math.exp(-np.dot(X_i, b)))\n",
    "        if y_i == 1 and hat_y == 1:\n",
    "            continue\n",
    "        if y_i == 0 and hat_y == 0:\n",
    "            continue\n",
    "        ln_likelyhood += ((1-y_i)*math.log(1-hat_y)+y_i*math.log(hat_y))\n",
    "    print(-ln_likelyhood)\n",
    "    return - ln_likelyhood\n",
    "\n",
    "def ln_likelyhood_func(X, y):\n",
    "    return functools.partial(logistic_ln_likelyhood, X=X, y=y)"
   ]
  },
  {
   "cell_type": "code",
   "execution_count": 107,
   "metadata": {},
   "outputs": [],
   "source": [
    "X_dummy_ = X_dummy.copy()\n",
    "bwt = X_dummy['bwt']\n",
    "X_dummy_['bwt'] = (bwt-bwt.mean()) / bwt.std()\n",
    "lwt = X_dummy['lwt']\n",
    "X_dummy_['lwt'] = (lwt-lwt.mean()) / lwt.std()\n",
    "age = X_dummy['age']\n",
    "X_dummy_['age'] = (age-age.mean()) / age.std()\n",
    "X_dummy_['_cons'] = 1"
   ]
  },
  {
   "cell_type": "code",
   "execution_count": 108,
   "metadata": {},
   "outputs": [],
   "source": [
    "func = ln_likelyhood_func(X_dummy_.drop('id', axis=1).drop('bwt', axis=1).drop('ftv', axis=1), y)"
   ]
  },
  {
   "cell_type": "code",
   "execution_count": 109,
   "metadata": {},
   "outputs": [
    {
     "name": "stdout",
     "output_type": "stream",
     "text": [
      "293.93539932446276\n"
     ]
    },
    {
     "data": {
      "text/plain": [
       "293.93539932446276"
      ]
     },
     "execution_count": 109,
     "metadata": {},
     "output_type": "execute_result"
    }
   ],
   "source": [
    "b = np.array([1, 1.1, 1, 1, 1, 1, 1.2, 1, 0.5])\n",
    "func(b)"
   ]
  },
  {
   "cell_type": "code",
   "execution_count": 110,
   "metadata": {},
   "outputs": [
    {
     "name": "stdout",
     "output_type": "stream",
     "text": [
      "293.93539932446276\n",
      "293.9353998257139\n",
      "293.935399817653\n",
      "293.93539954308994\n",
      "293.93539938501164\n",
      "293.9353994770132\n",
      "293.93539947708985\n",
      "293.93539972756264\n",
      "293.9353997808308\n",
      "293.93540062989484\n",
      "293.93539932446276\n",
      "194.84325943385508\n",
      "194.84325943385508\n",
      "194.8432599445404\n",
      "194.84325998422335\n",
      "194.84325960548355\n",
      "194.84325948053313\n",
      "194.8432595418534\n",
      "194.84325955053274\n",
      "194.84325970112764\n",
      "194.84325974037966\n",
      "194.8432603502341\n",
      "184.72357705277213\n",
      "184.72357705277213\n",
      "184.72357656465965\n",
      "184.7235765529261\n",
      "184.72357715918253\n",
      "184.72357703658864\n",
      "184.7235771634444\n",
      "184.72357708948394\n",
      "184.72357740634126\n",
      "184.72357728290805\n",
      "184.72357773959104\n",
      "167.79372924282995\n",
      "167.79372924282995\n",
      "167.79372887859478\n",
      "167.79372870234783\n",
      "167.7937293244905\n",
      "167.79372921948183\n",
      "167.7937293366645\n",
      "167.793729267441\n",
      "167.79372953178495\n",
      "167.79372947944503\n",
      "167.79372985580105\n",
      "140.5792197629951\n",
      "140.5792197629951\n",
      "140.5792193448409\n",
      "140.57921937177795\n",
      "140.5792197514211\n",
      "140.57921974575083\n",
      "140.57921980621668\n",
      "140.57921978728524\n",
      "140.57921992053468\n",
      "140.57921994596754\n",
      "140.57922017872082\n",
      "109.96188160112813\n",
      "109.96188160112813\n",
      "109.96188148856353\n",
      "109.96188138119389\n",
      "109.96188161417781\n",
      "109.96188158772166\n",
      "109.96188160585446\n",
      "109.96188156121997\n",
      "109.9618817189547\n",
      "109.96188152608428\n",
      "109.96188165346412\n",
      "195.62403198608686\n",
      "195.62403198608686\n",
      "195.62403203008196\n",
      "195.62403233820137\n",
      "195.6240321902923\n",
      "195.62403201570706\n",
      "195.6240320445953\n",
      "195.62403209022696\n",
      "195.62403182813145\n",
      "195.62403229663445\n",
      "195.62403213168338\n",
      "105.17045988011228\n",
      "105.17045988011228\n",
      "105.17045980857107\n",
      "105.1704597381519\n",
      "105.17045996268217\n",
      "105.1704598755635\n",
      "105.17045990415785\n",
      "105.17045986418883\n",
      "105.1704599149285\n",
      "105.17045988421009\n",
      "105.1704599110616\n",
      "101.70435952923192\n",
      "101.70435952923192\n",
      "101.70435952413924\n",
      "101.70435955500999\n",
      "101.70435950355325\n",
      "101.70435953993173\n",
      "101.70435953808835\n",
      "101.70435954444503\n",
      "101.70435953549234\n",
      "101.70435953949068\n",
      "101.70435951932897\n",
      "101.32116065137365\n",
      "101.32116065137365\n",
      "101.32116066369333\n",
      "101.32116066686461\n",
      "101.32116064302905\n",
      "101.32116064527665\n",
      "101.32116061597529\n",
      "101.32116064446052\n",
      "101.32116061593585\n",
      "101.32116062770415\n",
      "101.32116059370372\n",
      "100.91238827167615\n",
      "100.91238827167615\n",
      "100.91238827305425\n",
      "100.91238826805834\n",
      "100.91238826906269\n",
      "100.91238826429853\n",
      "100.91238826594812\n",
      "100.91238826005629\n",
      "100.91238824939784\n",
      "100.91238825388702\n",
      "100.91238823365289\n",
      "100.98329150149075\n",
      "100.98329150149075\n",
      "100.98329149170874\n",
      "100.98329149267191\n",
      "100.98329151261248\n",
      "100.98329151085369\n",
      "100.9832915060957\n",
      "100.98329151504375\n",
      "100.98329152316124\n",
      "100.98329151738898\n",
      "100.98329153297473\n",
      "100.74459994930778\n",
      "100.74459994930778\n",
      "100.7445999456687\n",
      "100.74459994302038\n",
      "100.74459995309961\n",
      "100.74459994978855\n",
      "100.74459994832021\n",
      "100.74459994917422\n",
      "100.7445999470295\n",
      "100.74459994699995\n",
      "100.74459994283608\n",
      "100.73418293107501\n",
      "100.73418293107501\n",
      "100.73418293071532\n",
      "100.73418293255142\n",
      "100.73418292918146\n",
      "100.73418293091295\n",
      "100.7341829307273\n",
      "100.7341829283634\n",
      "100.73418293217904\n",
      "100.73418293278232\n",
      "100.7341829279578\n",
      "100.7300002400182\n",
      "100.7300002400182\n",
      "100.73000024042364\n",
      "100.73000024363365\n",
      "100.7300002366805\n",
      "100.73000023945362\n",
      "100.73000024074341\n",
      "100.7300002418366\n",
      "100.73000023897242\n",
      "100.73000023885812\n",
      "100.73000023915986\n",
      "100.7246602177884\n",
      "100.7246602177884\n",
      "100.72466021784703\n",
      "100.72466021890443\n",
      "100.7246602167679\n",
      "100.72466021784211\n",
      "100.72466021806723\n",
      "100.72466021846202\n",
      "100.72466021723257\n",
      "100.72466021714297\n",
      "100.72466021754009\n",
      "100.72413247843237\n",
      "100.72413247843237\n",
      "100.72413247835833\n",
      "100.72413247788324\n",
      "100.72413247874174\n",
      "100.72413247814396\n",
      "100.7241324784416\n",
      "100.72413247845256\n",
      "100.72413247863251\n",
      "100.72413247863442\n",
      "100.72413247846252\n",
      "100.72401379203669\n",
      "100.72401379203669\n",
      "100.72401379203805\n",
      "100.72401379215053\n",
      "100.72401379203606\n",
      "100.7240137921418\n",
      "100.72401379199665\n",
      "100.72401379192863\n",
      "100.72401379203498\n",
      "100.72401379204967\n",
      "100.72401379203005\n",
      "100.72399580549033\n",
      "100.72399580549033\n",
      "100.7239958055005\n",
      "100.72399580548452\n",
      "100.72399580547538\n",
      "100.72399580548775\n",
      "100.72399580549488\n",
      "100.72399580550324\n",
      "100.72399580548144\n",
      "100.72399580547955\n",
      "100.72399580548883\n",
      "100.72399557708322\n",
      "100.72399557708322\n",
      "100.72399557707784\n",
      "100.72399557708847\n",
      "100.72399557708648\n",
      "100.72399557708277\n",
      "100.72399557708363\n",
      "100.72399557708371\n",
      "100.72399557708432\n",
      "100.72399557708414\n",
      "100.72399557708393\n",
      "100.72399556722483\n",
      "100.72399556722483\n",
      "100.72399556722635\n",
      "100.72399556722269\n",
      "100.72399556722458\n",
      "100.72399556722483\n",
      "100.72399556722445\n",
      "100.723995567224\n",
      "100.72399556722505\n",
      "100.72399556722522\n",
      "100.72399556722455\n",
      "100.7239955662642\n",
      "100.7239955662642\n",
      "100.72399556626405\n",
      "100.72399556626424\n",
      "100.72399556626408\n",
      "100.72399556626422\n",
      "100.72399556626422\n",
      "100.72399556626425\n",
      "100.72399556626411\n",
      "100.72399556626407\n",
      "100.72399556626414\n"
     ]
    },
    {
     "data": {
      "text/plain": [
       "      fun: 100.7239955662642\n",
       " hess_inv: array([[ 0.03886682, -0.00471066, -0.00894792,  0.00548942,  0.00953937,\n",
       "         0.01603309,  0.01056777,  0.00334815, -0.00500226],\n",
       "       [-0.00471066,  0.04526909,  0.00503468, -0.04725472,  0.0055532 ,\n",
       "        -0.02222248,  0.01396139,  0.00468161,  0.00279362],\n",
       "       [-0.00894792,  0.00503468,  0.12701235, -0.00152512, -0.03068614,\n",
       "        -0.00460929, -0.00629991, -0.02011598, -0.01182899],\n",
       "       [ 0.00548942, -0.04725472, -0.00152512,  0.48185499,  0.02965175,\n",
       "         0.0112747 , -0.01189682, -0.00864535, -0.03992437],\n",
       "       [ 0.00953937,  0.0055532 , -0.03068614,  0.02965175,  0.21654758,\n",
       "         0.01436691, -0.00492699, -0.00384094, -0.02937264],\n",
       "       [ 0.01603309, -0.02222248, -0.00460929,  0.0112747 ,  0.01436691,\n",
       "         0.28545971,  0.08482846,  0.03977724, -0.10306839],\n",
       "       [ 0.01056777,  0.01396139, -0.00629991, -0.01189682, -0.00492699,\n",
       "         0.08482846,  0.20696521,  0.08934061, -0.13133874],\n",
       "       [ 0.00334815,  0.00468161, -0.02011598, -0.00864535, -0.00384094,\n",
       "         0.03977724,  0.08934061,  0.17612324, -0.11372013],\n",
       "       [-0.00500226,  0.00279362, -0.01182899, -0.03992437, -0.02937264,\n",
       "        -0.10306839, -0.13133874, -0.11372013,  0.16065418]])\n",
       "      jac: array([-9.53674316e-06,  2.86102295e-06, -7.62939453e-06,  1.90734863e-06,\n",
       "        1.90734863e-06,  3.81469727e-06, -5.72204590e-06, -8.58306885e-06,\n",
       "       -3.81469727e-06])\n",
       "  message: 'Optimization terminated successfully.'\n",
       "     nfev: 242\n",
       "      nit: 19\n",
       "     njev: 22\n",
       "   status: 0\n",
       "  success: True\n",
       "        x: array([-0.14359597, -0.46323856,  0.54183607,  1.83251851,  0.75851419,\n",
       "        1.26264753,  0.86207783,  0.92334346, -2.13541551])"
      ]
     },
     "execution_count": 110,
     "metadata": {},
     "output_type": "execute_result"
    }
   ],
   "source": [
    "optimize.minimize(func, b)"
   ]
  },
  {
   "cell_type": "code",
   "execution_count": 96,
   "metadata": {},
   "outputs": [
    {
     "data": {
      "text/html": [
       "<div>\n",
       "<style scoped>\n",
       "    .dataframe tbody tr th:only-of-type {\n",
       "        vertical-align: middle;\n",
       "    }\n",
       "\n",
       "    .dataframe tbody tr th {\n",
       "        vertical-align: top;\n",
       "    }\n",
       "\n",
       "    .dataframe thead th {\n",
       "        text-align: right;\n",
       "    }\n",
       "</style>\n",
       "<table border=\"1\" class=\"dataframe\">\n",
       "  <thead>\n",
       "    <tr style=\"text-align: right;\">\n",
       "      <th></th>\n",
       "      <th>age</th>\n",
       "      <th>lwt</th>\n",
       "      <th>ptl</th>\n",
       "      <th>ht</th>\n",
       "      <th>ui</th>\n",
       "      <th>ftv</th>\n",
       "      <th>bwt</th>\n",
       "      <th>race_black</th>\n",
       "      <th>race_other</th>\n",
       "      <th>smoke_smoker</th>\n",
       "      <th>_cons</th>\n",
       "    </tr>\n",
       "  </thead>\n",
       "  <tbody>\n",
       "    <tr>\n",
       "      <th>0</th>\n",
       "      <td>-0.799840</td>\n",
       "      <td>1.706611</td>\n",
       "      <td>0</td>\n",
       "      <td>0</td>\n",
       "      <td>1</td>\n",
       "      <td>0</td>\n",
       "      <td>-0.577883</td>\n",
       "      <td>1</td>\n",
       "      <td>0</td>\n",
       "      <td>0</td>\n",
       "      <td>1</td>\n",
       "    </tr>\n",
       "    <tr>\n",
       "      <th>1</th>\n",
       "      <td>1.842328</td>\n",
       "      <td>0.823541</td>\n",
       "      <td>0</td>\n",
       "      <td>0</td>\n",
       "      <td>0</td>\n",
       "      <td>3</td>\n",
       "      <td>-0.539475</td>\n",
       "      <td>0</td>\n",
       "      <td>1</td>\n",
       "      <td>0</td>\n",
       "      <td>1</td>\n",
       "    </tr>\n",
       "    <tr>\n",
       "      <th>2</th>\n",
       "      <td>-0.611114</td>\n",
       "      <td>-0.811774</td>\n",
       "      <td>0</td>\n",
       "      <td>0</td>\n",
       "      <td>0</td>\n",
       "      <td>1</td>\n",
       "      <td>-0.531244</td>\n",
       "      <td>0</td>\n",
       "      <td>0</td>\n",
       "      <td>1</td>\n",
       "      <td>1</td>\n",
       "    </tr>\n",
       "    <tr>\n",
       "      <th>3</th>\n",
       "      <td>-0.422387</td>\n",
       "      <td>-0.713655</td>\n",
       "      <td>0</td>\n",
       "      <td>0</td>\n",
       "      <td>1</td>\n",
       "      <td>2</td>\n",
       "      <td>-0.480491</td>\n",
       "      <td>0</td>\n",
       "      <td>0</td>\n",
       "      <td>1</td>\n",
       "      <td>1</td>\n",
       "    </tr>\n",
       "    <tr>\n",
       "      <th>4</th>\n",
       "      <td>-0.988566</td>\n",
       "      <td>-0.746361</td>\n",
       "      <td>0</td>\n",
       "      <td>0</td>\n",
       "      <td>1</td>\n",
       "      <td>0</td>\n",
       "      <td>-0.472261</td>\n",
       "      <td>0</td>\n",
       "      <td>0</td>\n",
       "      <td>1</td>\n",
       "      <td>1</td>\n",
       "    </tr>\n",
       "  </tbody>\n",
       "</table>\n",
       "</div>"
      ],
      "text/plain": [
       "        age       lwt  ptl  ht  ui  ftv       bwt  race_black  race_other  \\\n",
       "0 -0.799840  1.706611    0   0   1    0 -0.577883           1           0   \n",
       "1  1.842328  0.823541    0   0   0    3 -0.539475           0           1   \n",
       "2 -0.611114 -0.811774    0   0   0    1 -0.531244           0           0   \n",
       "3 -0.422387 -0.713655    0   0   1    2 -0.480491           0           0   \n",
       "4 -0.988566 -0.746361    0   0   1    0 -0.472261           0           0   \n",
       "\n",
       "   smoke_smoker  _cons  \n",
       "0             0      1  \n",
       "1             0      1  \n",
       "2             1      1  \n",
       "3             1      1  \n",
       "4             1      1  "
      ]
     },
     "execution_count": 96,
     "metadata": {},
     "output_type": "execute_result"
    }
   ],
   "source": [
    "X_dummy_.head().drop('id', axis=1)"
   ]
  },
  {
   "cell_type": "code",
   "execution_count": 97,
   "metadata": {},
   "outputs": [
    {
     "data": {
      "text/html": [
       "<div>\n",
       "<style scoped>\n",
       "    .dataframe tbody tr th:only-of-type {\n",
       "        vertical-align: middle;\n",
       "    }\n",
       "\n",
       "    .dataframe tbody tr th {\n",
       "        vertical-align: top;\n",
       "    }\n",
       "\n",
       "    .dataframe thead th {\n",
       "        text-align: right;\n",
       "    }\n",
       "</style>\n",
       "<table border=\"1\" class=\"dataframe\">\n",
       "  <thead>\n",
       "    <tr style=\"text-align: right;\">\n",
       "      <th></th>\n",
       "      <th>age</th>\n",
       "      <th>lwt</th>\n",
       "      <th>ptl</th>\n",
       "      <th>ht</th>\n",
       "      <th>ui</th>\n",
       "      <th>race_black</th>\n",
       "      <th>race_other</th>\n",
       "      <th>smoke_smoker</th>\n",
       "      <th>_cons</th>\n",
       "    </tr>\n",
       "  </thead>\n",
       "  <tbody>\n",
       "    <tr>\n",
       "      <th>0</th>\n",
       "      <td>-0.79984</td>\n",
       "      <td>1.706611</td>\n",
       "      <td>0</td>\n",
       "      <td>0</td>\n",
       "      <td>1</td>\n",
       "      <td>1</td>\n",
       "      <td>0</td>\n",
       "      <td>0</td>\n",
       "      <td>1</td>\n",
       "    </tr>\n",
       "  </tbody>\n",
       "</table>\n",
       "</div>"
      ],
      "text/plain": [
       "       age       lwt  ptl  ht  ui  race_black  race_other  smoke_smoker  _cons\n",
       "0 -0.79984  1.706611    0   0   1           1           0             0      1"
      ]
     },
     "execution_count": 97,
     "metadata": {},
     "output_type": "execute_result"
    }
   ],
   "source": [
    "X_dummy_.drop('id', axis=1).drop('bwt', axis=1).drop('ftv', axis=1).head(1)"
   ]
  },
  {
   "cell_type": "code",
   "execution_count": 98,
   "metadata": {},
   "outputs": [],
   "source": [
    "a = X_dummy_.drop('id', axis=1).drop('bwt', axis=1).drop('ftv', axis=1).head(1)"
   ]
  }
 ],
 "metadata": {
  "kernelspec": {
   "display_name": "Python 3",
   "language": "python",
   "name": "python3"
  },
  "language_info": {
   "codemirror_mode": {
    "name": "ipython",
    "version": 3
   },
   "file_extension": ".py",
   "mimetype": "text/x-python",
   "name": "python",
   "nbconvert_exporter": "python",
   "pygments_lexer": "ipython3",
   "version": "3.7.3"
  }
 },
 "nbformat": 4,
 "nbformat_minor": 2
}
